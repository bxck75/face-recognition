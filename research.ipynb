{
  "nbformat": 4,
  "nbformat_minor": 0,
  "metadata": {
    "colab": {
      "name": "Latest.ipynb",
      "provenance": [],
      "private_outputs": true,
      "collapsed_sections": [],
      "include_colab_link": true
    },
    "kernelspec": {
      "name": "python3",
      "display_name": "Python 3"
    }
  },
  "cells": [
    {
      "cell_type": "markdown",
      "metadata": {
        "id": "view-in-github",
        "colab_type": "text"
      },
      "source": [
        "<a href=\"https://colab.research.google.com/github/bxck75/face-recognition/blob/master/research.ipynb\" target=\"_parent\"><img src=\"https://colab.research.google.com/assets/colab-badge.svg\" alt=\"Open In Colab\"/></a>"
      ]
    },
    {
      "cell_type": "code",
      "metadata": {
        "id": "Fb2Uwuo4Lk-n",
        "colab_type": "code",
        "colab": {}
      },
      "source": [
        "''' install 3dparty sheit '''\n",
        "from IPython.display import clear_output as cle\n",
        "from pprint import pprint as print\n",
        "from PIL import Image\n",
        "import os\n",
        "import sys\n",
        "import json\n",
        "import IPython\n",
        "\n",
        "''' default sample data delete '''\n",
        "os.system('rm -r sample_data')\n",
        "\n",
        "''' set root paths '''\n",
        "root = '/content'\n",
        "gdrive_root = '/content/drive/My Drive'\n",
        "helpers_root = root + '/installed_repos/Python_Helpers'\n",
        "\n",
        "''' setup install the Helpers module '''\n",
        "os.system('git clone https://github.com/bxck75/Python_Helpers.git ' + helpers_root) \n",
        "os.system('python ' + helpers_root + 'setup.py install')\n",
        "\n",
        "''' import helpers '''\n",
        "os.chdir(helpers_root)\n",
        "import main as main_core\n",
        "MainCore = main_core.main()\n",
        "HelpCore = MainCore.Helpers_Core\n",
        "Helpers = main_core.Helpers\n",
        "FScrape = HelpCore.flickr_scrape\n",
        "Old_H = MainCore.Helpers_Core.H\n",
        "ICrawl = Helpers.GoImgScrape.GoogleImageCrawler()\n",
        "Old_Horse = Old_H.Me\n",
        "\n",
        "# Scrape flickr for images\n",
        "search_list, qty, img_dir = ['rachell+luttrel'], 50, 'test_images'\n",
        "FScrape(search_list, qty, img_dir)\n",
        "\n",
        "\n",
        "cle()"
      ],
      "execution_count": 0,
      "outputs": []
    },
    {
      "cell_type": "code",
      "metadata": {
        "id": "5TzIlEsrZR_s",
        "colab_type": "code",
        "colab": {}
      },
      "source": [
        "from google.colab import drive\n",
        "drive.mount('/content/drive')"
      ],
      "execution_count": 0,
      "outputs": []
    },
    {
      "cell_type": "code",
      "metadata": {
        "id": "zhHcu9OrLRIC",
        "colab_type": "code",
        "colab": {}
      },
      "source": [
        "# Scrape for images method 1\n",
        "search_list, img_dir, qty = ['portait','face'], 'images', 21\n",
        "FScrape(search_list, qty, img_dir)\n",
        "cle()"
      ],
      "execution_count": 0,
      "outputs": []
    },
    {
      "cell_type": "code",
      "metadata": {
        "id": "_ucVZuLNWhIe",
        "colab_type": "code",
        "colab": {}
      },
      "source": [
        "\n"
      ],
      "execution_count": 0,
      "outputs": []
    }
  ]
}